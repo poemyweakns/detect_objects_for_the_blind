{
 "cells": [
  {
   "cell_type": "code",
   "execution_count": 8,
   "id": "6e5f9a84-babc-40c7-973a-f86467a04789",
   "metadata": {},
   "outputs": [
    {
     "name": "stdout",
     "output_type": "stream",
     "text": [
      "  Precision:  0.4674671774903474\n",
      "\n"
     ]
    },
    {
     "ename": "ValueError",
     "evalue": "not enough values to unpack (expected 2, got 1)",
     "output_type": "error",
     "traceback": [
      "\u001b[1;31m---------------------------------------------------------------------------\u001b[0m",
      "\u001b[1;31mValueError\u001b[0m                                Traceback (most recent call last)",
      "Cell \u001b[1;32mIn[8], line 9\u001b[0m\n\u001b[0;32m      7\u001b[0m \u001b[38;5;28;01mfor\u001b[39;00m i \u001b[38;5;129;01min\u001b[39;00m filee\u001b[38;5;241m.\u001b[39mreadlines()[:\u001b[38;5;241m4\u001b[39m]:\n\u001b[0;32m      8\u001b[0m     \u001b[38;5;28mprint\u001b[39m(i)\n\u001b[1;32m----> 9\u001b[0m     metr, ress \u001b[38;5;241m=\u001b[39m i\u001b[38;5;241m.\u001b[39msplit(\u001b[38;5;124m'\u001b[39m\u001b[38;5;124m :\u001b[39m\u001b[38;5;124m'\u001b[39m)\n\u001b[0;32m     10\u001b[0m     \u001b[38;5;28;01mif\u001b[39;00m metr \u001b[38;5;129;01min\u001b[39;00m d:\n\u001b[0;32m     11\u001b[0m         d[metr]\u001b[38;5;241m.\u001b[39mappend(\u001b[38;5;28mfloat\u001b[39m(ress))\n",
      "\u001b[1;31mValueError\u001b[0m: not enough values to unpack (expected 2, got 1)"
     ]
    }
   ],
   "source": [
    "import matplotlib.pyplot as plt\n",
    "\n",
    "fold_num = 4\n",
    "d = dict()\n",
    "for fold in range(1, fold_num+1):\n",
    "    filee = open(f\"C:\\\\Users\\\\User\\\\Desktop\\\\yolo_dataset\\\\res\\\\metrics_{fold}\\\\metrics.txt\")\n",
    "    for i in filee.readlines()[:4]:\n",
    "        metr, ress = i.split(': ')\n",
    "        if metr in d:\n",
    "            d[metr].append(float(ress))\n",
    "        else:\n",
    "            d[metr] = []\n",
    "            d[metr].append(float(ress))\n",
    "x = [j for j in range(1, fold_num+1)]\n",
    "\n",
    "for y in d:\n",
    "    plt.plot(x,d[y], marker='o', linestyle='--', color='red', label='Данные')\n",
    "    \n",
    "    plt.title(f\"Зависимость {y} от фолда\")\n",
    "    plt.xlabel(\"Fold\")\n",
    "    plt.ylabel(y)\n",
    "    \n",
    "    plt.legend()\n",
    "    \n",
    "    plt.grid(True)\n",
    "    \n",
    "    plt.xlim(0, 5)\n",
    "    plt.ylim(0, 0.9)\n",
    "    plt.tight_layout()\n",
    "    plt.show()"
   ]
  },
  {
   "cell_type": "code",
   "execution_count": null,
   "id": "a4c1e626-67b5-4871-a4c6-0c7270f6ffe1",
   "metadata": {},
   "outputs": [],
   "source": []
  }
 ],
 "metadata": {
  "kernelspec": {
   "display_name": "Python 3 (ipykernel)",
   "language": "python",
   "name": "python3"
  },
  "language_info": {
   "codemirror_mode": {
    "name": "ipython",
    "version": 3
   },
   "file_extension": ".py",
   "mimetype": "text/x-python",
   "name": "python",
   "nbconvert_exporter": "python",
   "pygments_lexer": "ipython3",
   "version": "3.10.6"
  }
 },
 "nbformat": 4,
 "nbformat_minor": 5
}
