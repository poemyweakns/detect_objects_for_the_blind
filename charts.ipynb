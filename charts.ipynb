{
 "cells": [
  {
   "cell_type": "code",
   "id": "6e5f9a84-babc-40c7-973a-f86467a04789",
   "metadata": {},
   "source": [
    "import matplotlib.pyplot as plt\n",
    "\n",
    "fold_num = 4\n",
    "d = dict()\n",
    "for fold in range(1, fold_num+1):\n",
    "    filee = open(f\"C:\\\\Users\\\\User\\\\Desktop\\\\yolo_dataset\\\\res\\\\metrics_{fold}\\\\metrics.txt\")\n",
    "    for i in filee.readlines()[:4]:\n",
    "        metr, ress = i.split(': ')\n",
    "        if metr in d:\n",
    "            d[metr].append(float(ress))\n",
    "        else:\n",
    "            d[metr] = []\n",
    "            d[metr].append(float(ress))\n",
    "x = [j for j in range(1, fold_num+1)]\n",
    "\n",
    "for y in d:\n",
    "    plt.plot(x,d[y], marker='o', linestyle='--', color='red', label='Данные')\n",
    "    \n",
    "    plt.title(f\"Зависимость {y} от фолда\")\n",
    "    plt.xlabel(\"Папка\")\n",
    "    plt.ylabel(y)\n",
    "    \n",
    "    plt.legend()\n",
    "    \n",
    "    plt.grid(True)\n",
    "    \n",
    "    plt.xlim(0, 5)\n",
    "    plt.ylim(0, 0.9)\n",
    "    plt.tight_layout()\n",
    "    plt.show()"
   ],
   "outputs": [],
   "execution_count": null
  }
 ],
 "metadata": {
  "kernelspec": {
   "display_name": "Python 3 (ipykernel)",
   "language": "python",
   "name": "python3"
  },
  "language_info": {
   "codemirror_mode": {
    "name": "ipython",
    "version": 3
   },
   "file_extension": ".py",
   "mimetype": "text/x-python",
   "name": "python",
   "nbconvert_exporter": "python",
   "pygments_lexer": "ipython3",
   "version": "3.10.6"
  }
 },
 "nbformat": 4,
 "nbformat_minor": 5
}
