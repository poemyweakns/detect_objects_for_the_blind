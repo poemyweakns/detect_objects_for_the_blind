{
 "cells": [
  {
   "cell_type": "code",
   "execution_count": 11,
   "id": "6fde3af7-8ee7-44e7-9137-b4d6398c22e4",
   "metadata": {},
   "outputs": [],
   "source": [
    "from sklearn.model_selection import StratifiedKFold, train_test_split\n",
    "import numpy as np\n",
    "import os \n",
    "import shutil"
   ]
  },
  {
   "cell_type": "code",
   "execution_count": 2,
   "id": "25aaa587-8d3d-4d7a-8219-7434d79af1c6",
   "metadata": {},
   "outputs": [],
   "source": [
    "image_dir = 'C:\\\\Users\\\\User\\\\Desktop\\\\yolo_dataset\\\\yolo_images'\n",
    "label_dir = 'C:\\\\Users\\\\User\\\\Desktop\\\\yolo_dataset\\\\yolo_labels'\n",
    "output_dir = 'C:\\\\Users\\\\User\\\\Desktop\\\\yolo_dataset\\\\splits'\n",
    "train_size=0.9\n",
    "test_size=0.1 \n",
    "random_state=42"
   ]
  },
  {
   "cell_type": "code",
   "execution_count": 3,
   "id": "ae04575e-f9b9-44f7-bb78-386a9c06a9ff",
   "metadata": {},
   "outputs": [],
   "source": [
    "image_files = [f for f in os.listdir(image_dir) if os.path.isfile(os.path.join(image_dir, f))]"
   ]
  },
  {
   "cell_type": "code",
   "execution_count": 4,
   "id": "6a1934f5-3482-4937-85d8-cf760bf239f3",
   "metadata": {},
   "outputs": [],
   "source": [
    "image_classes = []\n",
    "for image_file in image_files:\n",
    "    label_file = os.path.join(label_dir, os.path.splitext(image_file)[0] + '.txt')\n",
    "    if os.path.exists(label_file):\n",
    "        first_line = f.readline().strip()\n",
    "        class_id = int(first_line.split()[0])\n",
    "        image_classes.append(class_id)\n",
    "    else:\n",
    "        print(f\"no\"))"
   ]
  },
  {
   "cell_type": "code",
   "execution_count": 5,
   "id": "2ee4e267-6d83-44eb-bfa0-1b849ef607e0",
   "metadata": {},
   "outputs": [],
   "source": [
    "image_files = np.array(image_files)\n",
    "image_classes = np.array(image_classes)"
   ]
  },
  {
   "cell_type": "code",
   "execution_count": 7,
   "id": "80edd321-2cfd-40d8-8038-76073fb5e791",
   "metadata": {},
   "outputs": [],
   "source": [
    "n_folds = 4\n",
    "skf = StratifiedKFold(n_splits=n_folds, shuffle=True, random_state=random_state)"
   ]
  },
  {
   "cell_type": "code",
   "execution_count": 12,
   "id": "62271766-eaf0-47af-a90a-0dbe845c688e",
   "metadata": {},
   "outputs": [
    {
     "name": "stdout",
     "output_type": "stream",
     "text": [
      "Fold 1:\n",
      "Копирование обучающих файлов...\n",
      "Копирование тестовых файлов...\n",
      "Fold 1 завершен.\n",
      "Fold 2:\n",
      "Копирование обучающих файлов...\n",
      "Копирование тестовых файлов...\n",
      "Fold 2 завершен.\n",
      "Fold 3:\n",
      "Копирование обучающих файлов...\n",
      "Копирование тестовых файлов...\n",
      "Fold 3 завершен.\n",
      "Fold 4:\n",
      "Копирование обучающих файлов...\n",
      "Копирование тестовых файлов...\n",
      "Fold 4 завершен.\n"
     ]
    }
   ],
   "source": [
    "for fold, (fold_train_index, fold_test_index) in enumerate(skf.split(image_files, image_classes)):\n",
    "        print(f\"Fold {fold + 1}:\")\n",
    "        #создание папок для обучающей и тестовой выборо\n",
    "        fold_dir = os.path.join(output_dir, f\"fold_{fold + 1}\")\n",
    "        train_image_dir = os.path.join(fold_dir, \"train\", \"images\")\n",
    "        train_label_dir = os.path.join(fold_dir, \"train\", \"labels\")\n",
    "        test_image_dir = os.path.join(fold_dir, \"test\", \"images\")\n",
    "        test_label_dir = os.path.join(fold_dir, \"test\", \"labels\")\n",
    "\n",
    "        os.makedirs(train_image_dir, exist_ok=True)\n",
    "        os.makedirs(train_label_dir, exist_ok=True)\n",
    "        os.makedirs(test_image_dir, exist_ok=True)\n",
    "        os.makedirs(test_label_dir, exist_ok=True)\n",
    "\n",
    "        fold_image_files = image_files[fold_test_index]\n",
    "        fold_image_classes = image_classes[fold_test_index] # и их классы\n",
    "\n",
    "        X_train, X_test, y_train, y_test = train_test_split(\n",
    "            fold_image_files, fold_image_classes,\n",
    "            stratify=fold_image_classes, # стратификация внутри фолда\n",
    "            train_size=train_size,\n",
    "            random_state=random_state\n",
    "        )\n",
    "        def copy_files(file_list, dest_image_dir, dest_label_dir):\n",
    "                for image_file in file_list:\n",
    "                    image_path = os.path.join(image_dir, image_file)\n",
    "                    label_path = os.path.join(label_dir, os.path.splitext(image_file)[0] + '.txt')\n",
    "    \n",
    "                    dest_image_path = os.path.join(dest_image_dir, image_file)\n",
    "                    dest_label_path = os.path.join(dest_label_dir, os.path.splitext(image_file)[0] + '.txt')\n",
    "    \n",
    "                    shutil.copy(image_path, dest_image_path)\n",
    "                    shutil.copy(label_path, dest_label_path)\n",
    "    \n",
    "        #копирование обучающих файлов\n",
    "        copy_files(X_train, train_image_dir, train_label_dir)а\n",
    "\n",
    "        #копирование тестовых файлов\n",
    "        copy_files(X_test, test_image_dir, test_label_dir)\n",
    "\n",
    "        print(f\"Fold {fold + 1} завершен.\")"
   ]
  },
  {
   "cell_type": "code",
   "execution_count": null,
   "id": "16d6be5c-e753-4ee9-921d-559b967bbf7e",
   "metadata": {},
   "outputs": [],
   "source": []
  }
 ],
 "metadata": {
  "kernelspec": {
   "display_name": "Python 3 (ipykernel)",
   "language": "python",
   "name": "python3"
  },
  "language_info": {
   "codemirror_mode": {
    "name": "ipython",
    "version": 3
   },
   "file_extension": ".py",
   "mimetype": "text/x-python",
   "name": "python",
   "nbconvert_exporter": "python",
   "pygments_lexer": "ipython3",
   "version": "3.10.6"
  }
 },
 "nbformat": 4,
 "nbformat_minor": 5
}
